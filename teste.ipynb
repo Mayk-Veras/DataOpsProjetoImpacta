{
 "cells": [
  {
   "cell_type": "code",
   "execution_count": 11,
   "metadata": {},
   "outputs": [
    {
     "name": "stderr",
     "output_type": "stream",
     "text": [
      "428.98s - pydevd: Sending message related to process being replaced timed-out after 5 seconds\n"
     ]
    },
    {
     "name": "stdout",
     "output_type": "stream",
     "text": [
      "Defaulting to user installation because normal site-packages is not writeable\n",
      "Collecting mysql-connector-python\n",
      "  Using cached mysql_connector_python-8.3.0-cp311-cp311-manylinux_2_17_x86_64.whl.metadata (1.9 kB)\n",
      "Using cached mysql_connector_python-8.3.0-cp311-cp311-manylinux_2_17_x86_64.whl (21.5 MB)\n",
      "Installing collected packages: mysql-connector-python\n",
      "Successfully installed mysql-connector-python-8.3.0\n",
      "Note: you may need to restart the kernel to use updated packages.\n"
     ]
    }
   ],
   "source": [
    "%pip install mysql-connector-python"
   ]
  },
  {
   "cell_type": "code",
   "execution_count": 1,
   "metadata": {},
   "outputs": [],
   "source": [
    "import mysql.connector"
   ]
  },
  {
   "cell_type": "code",
   "execution_count": 2,
   "metadata": {},
   "outputs": [],
   "source": [
    "con = mysql.connector.connect(\n",
    "            user='root', password='root', port=\"3306\", host = 'localhost', database='db')"
   ]
  },
  {
   "cell_type": "code",
   "execution_count": 3,
   "metadata": {},
   "outputs": [],
   "source": [
    "cursor = con.cursor()\n",
    "cursor.execute('Select * FROM cadastro')\n",
    "cadastro = cursor.fetchall()"
   ]
  },
  {
   "cell_type": "code",
   "execution_count": 4,
   "metadata": {},
   "outputs": [
    {
     "data": {
      "text/plain": [
       "[(1,\n",
       "  'female',\n",
       "  'Miss',\n",
       "  'Victoria',\n",
       "  'Lambert',\n",
       "  'Gloucester',\n",
       "  'Rutland',\n",
       "  'United Kingdom',\n",
       "  'victoria.lambert@example.com',\n",
       "  datetime.date(1965, 6, 20),\n",
       "  datetime.datetime(2024, 3, 16, 0, 0)),\n",
       " (2,\n",
       "  'male',\n",
       "  'mr',\n",
       "  'vincent',\n",
       "  'singh',\n",
       "  'hastings',\n",
       "  'bay of plenty',\n",
       "  'new zealand',\n",
       "  'vincentsinghexamplecom',\n",
       "  datetime.date(1968, 9, 15),\n",
       "  datetime.datetime(2024, 4, 17, 16, 58, 17)),\n",
       " (3,\n",
       "  'male',\n",
       "  'mr',\n",
       "  'vicente',\n",
       "  'guajardo',\n",
       "  'nuevo balsas',\n",
       "  'estado de mexico',\n",
       "  'mexico',\n",
       "  'vicenteguajardoexamplecom',\n",
       "  datetime.date(1984, 2, 25),\n",
       "  datetime.datetime(2024, 4, 17, 16, 58, 17)),\n",
       " (4,\n",
       "  'male',\n",
       "  'mr',\n",
       "  'domingo',\n",
       "  'medina',\n",
       "  'crdoba',\n",
       "  'extremadura',\n",
       "  'spain',\n",
       "  'domingomedinaexamplecom',\n",
       "  datetime.date(1949, 10, 21),\n",
       "  datetime.datetime(2024, 4, 17, 16, 58, 17)),\n",
       " (5,\n",
       "  'female',\n",
       "  'miss',\n",
       "  'freya',\n",
       "  'martin',\n",
       "  'palmerston north',\n",
       "  'gisborne',\n",
       "  'new zealand',\n",
       "  'freyamartinexamplecom',\n",
       "  datetime.date(1993, 9, 7),\n",
       "  datetime.datetime(2024, 4, 17, 16, 58, 17)),\n",
       " (6,\n",
       "  'female',\n",
       "  'mrs',\n",
       "  'caitlin',\n",
       "  'wright',\n",
       "  'whanganui',\n",
       "  'tasman',\n",
       "  'new zealand',\n",
       "  'caitlinwrightexamplecom',\n",
       "  datetime.date(1997, 5, 7),\n",
       "  datetime.datetime(2024, 4, 17, 16, 58, 17)),\n",
       " (7,\n",
       "  'female',\n",
       "  'mrs',\n",
       "  'ashley',\n",
       "  'wade',\n",
       "  'carlow',\n",
       "  'donegal',\n",
       "  'ireland',\n",
       "  'ashleywadeexamplecom',\n",
       "  datetime.date(1982, 4, 6),\n",
       "  datetime.datetime(2024, 4, 17, 16, 58, 17)),\n",
       " (8,\n",
       "  'female',\n",
       "  'ms',\n",
       "  'alexis',\n",
       "  'payne',\n",
       "  'oakland',\n",
       "  'florida',\n",
       "  'united states',\n",
       "  'alexispayneexamplecom',\n",
       "  datetime.date(1956, 9, 19),\n",
       "  datetime.datetime(2024, 4, 17, 16, 58, 17)),\n",
       " (9,\n",
       "  'female',\n",
       "  'mrs',\n",
       "  'yeni',\n",
       "  'cuellar',\n",
       "  'unin de guadalupe',\n",
       "  'michoacan',\n",
       "  'mexico',\n",
       "  'yenicuellarexamplecom',\n",
       "  datetime.date(1993, 3, 29),\n",
       "  datetime.datetime(2024, 4, 17, 16, 58, 17)),\n",
       " (10,\n",
       "  'female',\n",
       "  'mrs',\n",
       "  'christina',\n",
       "  'brenden',\n",
       "  'kjrnes',\n",
       "  'oppland',\n",
       "  'norway',\n",
       "  'christinabrendenexamplecom',\n",
       "  datetime.date(1989, 3, 23),\n",
       "  datetime.datetime(2024, 4, 17, 16, 58, 17)),\n",
       " (11,\n",
       "  'female',\n",
       "  'ms',\n",
       "  'kthe',\n",
       "  'grebe',\n",
       "  'altentreptow',\n",
       "  'brandenburg',\n",
       "  'germany',\n",
       "  'kathegrebeexamplecom',\n",
       "  datetime.date(1961, 11, 29),\n",
       "  datetime.datetime(2024, 4, 17, 16, 58, 17))]"
      ]
     },
     "execution_count": 4,
     "metadata": {},
     "output_type": "execute_result"
    }
   ],
   "source": [
    "cadastro"
   ]
  },
  {
   "cell_type": "code",
   "execution_count": null,
   "metadata": {},
   "outputs": [],
   "source": []
  }
 ],
 "metadata": {
  "kernelspec": {
   "display_name": "Python 3",
   "language": "python",
   "name": "python3"
  },
  "language_info": {
   "codemirror_mode": {
    "name": "ipython",
    "version": 3
   },
   "file_extension": ".py",
   "mimetype": "text/x-python",
   "name": "python",
   "nbconvert_exporter": "python",
   "pygments_lexer": "ipython3",
   "version": "3.11.8"
  }
 },
 "nbformat": 4,
 "nbformat_minor": 2
}
