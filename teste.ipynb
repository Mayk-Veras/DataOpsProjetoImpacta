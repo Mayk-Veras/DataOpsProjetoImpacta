{
 "cells": [
  {
   "cell_type": "code",
   "execution_count": 8,
   "metadata": {},
   "outputs": [
    {
     "name": "stdout",
     "output_type": "stream",
     "text": [
      "Defaulting to user installation because normal site-packages is not writeable\n",
      "Requirement already satisfied: mysql-connector-python in /home/crleal/.local/lib/python3.11/site-packages (8.3.0)\n",
      "Note: you may need to restart the kernel to use updated packages.\n"
     ]
    }
   ],
   "source": [
    "%pip install mysql-connector-python"
   ]
  },
  {
   "cell_type": "code",
   "execution_count": 9,
   "metadata": {},
   "outputs": [],
   "source": [
    "import mysql.connector"
   ]
  },
  {
   "cell_type": "code",
   "execution_count": 14,
   "metadata": {},
   "outputs": [],
   "source": [
    "con = mysql.connector.connect(\n",
    "            user='root', password='root', port=\"3306\", host = 'localhost', database='db')"
   ]
  },
  {
   "cell_type": "code",
   "execution_count": 18,
   "metadata": {},
   "outputs": [],
   "source": [
    "cursor = con.cursor()\n",
    "cursor.execute('Select * FROM cadastro')\n",
    "cadastro1 = cursor.fetchall()"
   ]
  },
  {
   "cell_type": "code",
   "execution_count": 19,
   "metadata": {},
   "outputs": [
    {
     "data": {
      "text/plain": [
       "[(1,\n",
       "  'female',\n",
       "  'Miss',\n",
       "  'Victoria',\n",
       "  'Lambert',\n",
       "  'Gloucester',\n",
       "  'Rutland',\n",
       "  'United Kingdom',\n",
       "  'victoria.lambert@example.com',\n",
       "  datetime.date(1965, 6, 20),\n",
       "  datetime.datetime(2024, 3, 16, 0, 0)),\n",
       " (2,\n",
       "  'female',\n",
       "  'mrs',\n",
       "  'serpil',\n",
       "  'bloch',\n",
       "  'zeil am main',\n",
       "  'saarland',\n",
       "  'germany',\n",
       "  'serpilblochexamplecom',\n",
       "  datetime.date(1972, 12, 29),\n",
       "  datetime.datetime(2024, 4, 26, 19, 32, 20)),\n",
       " (3,\n",
       "  'male',\n",
       "  'mr',\n",
       "  'santiago',\n",
       "  'arevalo',\n",
       "  'santiago tenango',\n",
       "  'baja california',\n",
       "  'mexico',\n",
       "  'santiagoarevaloexamplecom',\n",
       "  datetime.date(1967, 2, 16),\n",
       "  datetime.datetime(2024, 4, 26, 19, 32, 20)),\n",
       " (4,\n",
       "  'male',\n",
       "  'mr',\n",
       "  'jose',\n",
       "  'carlson',\n",
       "  'ballarat',\n",
       "  'tasmania',\n",
       "  'australia',\n",
       "  'josecarlsonexamplecom',\n",
       "  datetime.date(1992, 10, 10),\n",
       "  datetime.datetime(2024, 4, 26, 19, 32, 20)),\n",
       " (5,\n",
       "  'female',\n",
       "  'mrs',\n",
       "  'clara',\n",
       "  'pereira',\n",
       "  'uberlndia',\n",
       "  'amap',\n",
       "  'brazil',\n",
       "  'clarapereiraexamplecom',\n",
       "  datetime.date(1981, 2, 27),\n",
       "  datetime.datetime(2024, 4, 26, 19, 32, 20)),\n",
       " (6,\n",
       "  'female',\n",
       "  'ms',\n",
       "  'leintje',\n",
       "  'kerremans',\n",
       "  'heiligerlee',\n",
       "  'limburg',\n",
       "  'netherlands',\n",
       "  'leintjekerremansexamplecom',\n",
       "  datetime.date(1978, 9, 11),\n",
       "  datetime.datetime(2024, 4, 26, 19, 32, 20)),\n",
       " (7,\n",
       "  'female',\n",
       "  'mrs',\n",
       "  'selma',\n",
       "  'jensen',\n",
       "  'sams',\n",
       "  'midtjylland',\n",
       "  'denmark',\n",
       "  'selmajensenexamplecom',\n",
       "  datetime.date(1968, 3, 3),\n",
       "  datetime.datetime(2024, 4, 26, 19, 32, 20)),\n",
       " (8,\n",
       "  'female',\n",
       "  'ms',\n",
       "  'theresia',\n",
       "  'ruoff',\n",
       "  'gnzburg',\n",
       "  'niedersachsen',\n",
       "  'germany',\n",
       "  'theresiaruoffexamplecom',\n",
       "  datetime.date(1978, 11, 18),\n",
       "  datetime.datetime(2024, 4, 26, 19, 32, 20)),\n",
       " (9,\n",
       "  'male',\n",
       "  'monsieur',\n",
       "  'angel',\n",
       "  'hubert',\n",
       "  'aubonne',\n",
       "  'luzern',\n",
       "  'switzerland',\n",
       "  'angelhubertexamplecom',\n",
       "  datetime.date(1997, 3, 22),\n",
       "  datetime.datetime(2024, 4, 26, 19, 32, 20)),\n",
       " (10,\n",
       "  'male',\n",
       "  'mr',\n",
       "  'jeff',\n",
       "  'herrera',\n",
       "  'kent',\n",
       "  'michigan',\n",
       "  'united states',\n",
       "  'jeffherreraexamplecom',\n",
       "  datetime.date(1958, 10, 28),\n",
       "  datetime.datetime(2024, 4, 26, 19, 32, 20)),\n",
       " (11,\n",
       "  'female',\n",
       "  'miss',\n",
       "  'victoria',\n",
       "  'christensen',\n",
       "  'noerre alslev',\n",
       "  'hovedstaden',\n",
       "  'denmark',\n",
       "  'victoriachristensenexamplecom',\n",
       "  datetime.date(1968, 12, 29),\n",
       "  datetime.datetime(2024, 4, 26, 19, 32, 20))]"
      ]
     },
     "execution_count": 19,
     "metadata": {},
     "output_type": "execute_result"
    }
   ],
   "source": [
    "cadastro1"
   ]
  },
  {
   "cell_type": "code",
   "execution_count": null,
   "metadata": {},
   "outputs": [],
   "source": []
  }
 ],
 "metadata": {
  "kernelspec": {
   "display_name": "Python 3",
   "language": "python",
   "name": "python3"
  },
  "language_info": {
   "codemirror_mode": {
    "name": "ipython",
    "version": 3
   },
   "file_extension": ".py",
   "mimetype": "text/x-python",
   "name": "python",
   "nbconvert_exporter": "python",
   "pygments_lexer": "ipython3",
   "version": "3.11.9"
  }
 },
 "nbformat": 4,
 "nbformat_minor": 2
}
